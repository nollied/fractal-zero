{
 "cells": [
  {
   "cell_type": "code",
   "execution_count": null,
   "metadata": {},
   "outputs": [],
   "source": [
    "from fractal_zero.trainers.muzero_discriminator import FractalMuZeroDiscriminatorTrainer, FMZGModel\n",
    "from fractal_zero.models.joint_model import JointModel\n",
    "\n",
    "import torch"
   ]
  },
  {
   "cell_type": "code",
   "execution_count": null,
   "metadata": {},
   "outputs": [],
   "source": [
    "from fractal_zero.data.expert_dataset import ExpertDatasetGenerator\n",
    "from fractal_zero.vectorized_environment import load_environment\n",
    "\n",
    "env = load_environment(\"CartPole-v0\")\n",
    "\n",
    "\n",
    "rep_model = torch.nn.Identity()\n",
    "\n",
    "dyn_model = torch.nn.Sequential(\n",
    "    torch.nn.Linear(5, 4),  # obs space + action embedding = 4 + 1 = 5\n",
    "    torch.nn.ReLU(),\n",
    "    torch.nn.Linear(4, 4),\n",
    ")\n",
    "disc_model = torch.nn.Sequential(\n",
    "    torch.nn.Linear(4, 1),\n",
    ")\n",
    "\n",
    "model = FMZGModel(\n",
    "    rep_model, \n",
    "    dyn_model, \n",
    "    disc_model, \n",
    "    num_walkers=2, \n",
    "    action_vectorizer=lambda x: torch.tensor(x).flatten().int().item(),\n",
    ")\n",
    "\n",
    "expert_policy_model = lambda x: env.action_space.sample()  # TODO: use an actual model...\n",
    "expert_dataset = ExpertDatasetGenerator(\n",
    "    expert_policy_model,\n",
    "    env,\n",
    ")\n",
    "\n",
    "trainer = FractalMuZeroDiscriminatorTrainer(env, model, expert_dataset)"
   ]
  },
  {
   "cell_type": "code",
   "execution_count": null,
   "metadata": {},
   "outputs": [],
   "source": [
    "trainer.train_step(8)"
   ]
  },
  {
   "cell_type": "code",
   "execution_count": null,
   "metadata": {},
   "outputs": [],
   "source": []
  }
 ],
 "metadata": {
  "kernelspec": {
   "display_name": "Python 3.10.0 ('gailzero')",
   "language": "python",
   "name": "python3"
  },
  "language_info": {
   "codemirror_mode": {
    "name": "ipython",
    "version": 3
   },
   "file_extension": ".py",
   "mimetype": "text/x-python",
   "name": "python",
   "nbconvert_exporter": "python",
   "pygments_lexer": "ipython3",
   "version": "3.10.0"
  },
  "orig_nbformat": 4,
  "vscode": {
   "interpreter": {
    "hash": "ac9119dd7d1378442db83eb401302935516d5b6c817f3460e2dfcb82db0e6696"
   }
  }
 },
 "nbformat": 4,
 "nbformat_minor": 2
}
