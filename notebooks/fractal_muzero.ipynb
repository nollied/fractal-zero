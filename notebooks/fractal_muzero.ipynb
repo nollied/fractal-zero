{
 "cells": [
  {
   "cell_type": "code",
   "execution_count": null,
   "metadata": {},
   "outputs": [],
   "source": [
    "from fractal_zero.trainers.muzero_discriminator import FractalMuZeroDiscriminatorTrainer, FMZGModel\n",
    "from fractal_zero.models.joint_model import JointModel\n",
    "\n",
    "from fractal_zero.data.expert_dataset import ExpertDatasetGenerator\n",
    "from fractal_zero.vectorized_environment import load_environment\n",
    "\n",
    "\n",
    "import torch"
   ]
  },
  {
   "cell_type": "code",
   "execution_count": null,
   "metadata": {},
   "outputs": [],
   "source": [
    "env = load_environment(\"CartPole-v0\")"
   ]
  },
  {
   "cell_type": "code",
   "execution_count": null,
   "metadata": {},
   "outputs": [],
   "source": [
    "# get_expert_action = lambda x: env.action_space.sample()  # random policy\n",
    "\n",
    "_expert_policy_model = torch.load(\"models/best_cartpole_policy.pth\")\n",
    "def get_expert_action(x):\n",
    "    embedded_actions = _expert_policy_model.forward(x)\n",
    "    return _expert_policy_model.parse_actions(embedded_actions)\n",
    "\n",
    "# play with the expert for a bit\n",
    "# obs = env.reset()\n",
    "# total_reward = 0\n",
    "# for _ in range(200):\n",
    "#     action = get_expert_action(obs)\n",
    "#     obs, reward, done, info = env.step(action)\n",
    "#     total_reward += reward\n",
    "#     env.render()\n",
    "#     if done:\n",
    "#         break\n",
    "\n",
    "# env.close()\n",
    "# print(f\"total_reward={total_reward}\")"
   ]
  },
  {
   "cell_type": "code",
   "execution_count": null,
   "metadata": {},
   "outputs": [],
   "source": [
    "rep_model = torch.nn.Sequential(\n",
    "    torch.nn.Linear(4, 4),\n",
    "    torch.nn.ReLU(),\n",
    "    torch.nn.Linear(4, 4),\n",
    "    torch.nn.ReLU(),\n",
    ")\n",
    "# rep_model = torch.nn.Identity()\n",
    "\n",
    "dyn_model = torch.nn.Sequential(\n",
    "    torch.nn.Linear(5, 16),  # obs space + action embedding = 4 + 1 = 5\n",
    "    torch.nn.ReLU(),\n",
    "    torch.nn.Linear(16, 4),\n",
    "    torch.nn.ReLU(),\n",
    ")\n",
    "\n",
    "# the disc model receives the output embedding from the representation model\n",
    "disc_model = torch.nn.Sequential(\n",
    "    torch.nn.Linear(5, 1),\n",
    "    torch.nn.Sigmoid(),  # between 0 and 1 confidence values.\n",
    ")\n",
    "\n",
    "action_vec = lambda x: torch.tensor(x).flatten().int().item()\n",
    "\n",
    "model = FMZGModel(\n",
    "    rep_model, \n",
    "    dyn_model, \n",
    "    disc_model, \n",
    "    num_walkers=256, \n",
    "    action_vectorizer=action_vec,\n",
    ")\n",
    "\n",
    "expert_dataset = ExpertDatasetGenerator(\n",
    "    get_expert_action,\n",
    "    env,\n",
    "    action_vectorizer=action_vec,\n",
    ")\n",
    "\n",
    "discriminator_optimizer = torch.optim.Adam([\n",
    "    *rep_model.parameters(), \n",
    "    *dyn_model.parameters(),\n",
    "    *disc_model.parameters(),\n",
    "], lr=0.1)\n",
    "\n",
    "trainer = FractalMuZeroDiscriminatorTrainer(env, model, expert_dataset, discriminator_optimizer)"
   ]
  },
  {
   "cell_type": "code",
   "execution_count": null,
   "metadata": {},
   "outputs": [],
   "source": [
    "max_steps = 64\n",
    "for _ in range(100):\n",
    "    print(trainer.train_step(max_steps))"
   ]
  },
  {
   "cell_type": "code",
   "execution_count": null,
   "metadata": {},
   "outputs": [],
   "source": []
  }
 ],
 "metadata": {
  "kernelspec": {
   "display_name": "Python 3.10.0 ('gailzero')",
   "language": "python",
   "name": "python3"
  },
  "language_info": {
   "codemirror_mode": {
    "name": "ipython",
    "version": 3
   },
   "file_extension": ".py",
   "mimetype": "text/x-python",
   "name": "python",
   "nbconvert_exporter": "python",
   "pygments_lexer": "ipython3",
   "version": "3.10.0"
  },
  "orig_nbformat": 4,
  "vscode": {
   "interpreter": {
    "hash": "ac9119dd7d1378442db83eb401302935516d5b6c817f3460e2dfcb82db0e6696"
   }
  }
 },
 "nbformat": 4,
 "nbformat_minor": 2
}
