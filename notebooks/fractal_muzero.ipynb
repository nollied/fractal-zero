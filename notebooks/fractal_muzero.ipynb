{
 "cells": [
  {
   "cell_type": "code",
   "execution_count": 1,
   "metadata": {},
   "outputs": [
    {
     "name": "stderr",
     "output_type": "stream",
     "text": [
      "WARNING: CPU random generator seem to be failing, disabling hardware random number generation\n",
      "WARNING: RDRND generated: 0xffffffff 0xffffffff 0xffffffff 0xffffffff\n"
     ]
    }
   ],
   "source": [
    "from fractal_zero.trainers.muzero_discriminator import FractalMuZeroDiscriminatorTrainer, FMZGModel\n",
    "from fractal_zero.models.joint_model import JointModel\n",
    "\n",
    "from fractal_zero.data.expert_dataset import ExpertDatasetGenerator\n",
    "from fractal_zero.vectorized_environment import load_environment\n",
    "\n",
    "import wandb\n",
    "import torch\n",
    "from tqdm import tqdm_notebook as tqdm"
   ]
  },
  {
   "cell_type": "code",
   "execution_count": 2,
   "metadata": {},
   "outputs": [
    {
     "name": "stderr",
     "output_type": "stream",
     "text": [
      "/home/nollyd/anaconda3/envs/gailzero/lib/python3.10/site-packages/gym/envs/registration.py:593: UserWarning: \u001b[33mWARN: The environment CartPole-v0 is out of date. You should consider upgrading to version `v1`.\u001b[0m\n",
      "  logger.warn(\n",
      "/home/nollyd/anaconda3/envs/gailzero/lib/python3.10/site-packages/gym/core.py:317: DeprecationWarning: \u001b[33mWARN: Initializing wrapper in old step API which returns one bool instead of two. It is recommended to set `new_step_api=True` to use new step API. This will be the default behaviour in future.\u001b[0m\n",
      "  deprecation(\n",
      "/home/nollyd/anaconda3/envs/gailzero/lib/python3.10/site-packages/gym/wrappers/step_api_compatibility.py:39: DeprecationWarning: \u001b[33mWARN: Initializing environment in old step API which returns one bool instead of two. It is recommended to set `new_step_api=True` to use new step API. This will be the default behaviour in future.\u001b[0m\n",
      "  deprecation(\n"
     ]
    }
   ],
   "source": [
    "env = load_environment(\"CartPole-v0\")"
   ]
  },
  {
   "cell_type": "code",
   "execution_count": 3,
   "metadata": {},
   "outputs": [],
   "source": [
    "# get_expert_action = lambda x: env.action_space.sample()  # random policy\n",
    "\n",
    "_expert_policy_model = torch.load(\"models/best_cartpole_policy.pth\")\n",
    "def get_expert_action(x):\n",
    "    embedded_actions = _expert_policy_model.forward(x)\n",
    "    return _expert_policy_model.parse_actions(embedded_actions)\n",
    "\n",
    "# play with the expert for a bit\n",
    "# obs = env.reset()\n",
    "# total_reward = 0\n",
    "# for _ in range(200):\n",
    "#     action = get_expert_action(obs)\n",
    "#     obs, reward, done, info = env.step(action)\n",
    "#     total_reward += reward\n",
    "#     env.render()\n",
    "#     if done:\n",
    "#         break\n",
    "\n",
    "# env.close()\n",
    "# print(f\"total_reward={total_reward}\")"
   ]
  },
  {
   "cell_type": "code",
   "execution_count": 4,
   "metadata": {},
   "outputs": [],
   "source": [
    "# rep_model = torch.nn.Sequential(\n",
    "#     torch.nn.Linear(4, 16),\n",
    "#     torch.nn.ReLU(),\n",
    "#     torch.nn.Linear(16, 16),\n",
    "#     torch.nn.ReLU(),\n",
    "#     torch.nn.Linear(16, 4),\n",
    "#     torch.nn.ReLU(),\n",
    "# )\n",
    "rep_model = torch.nn.Identity()\n",
    "\n",
    "dyn_model = torch.nn.Sequential(\n",
    "    torch.nn.Linear(5, 16),  # obs space + action embedding = 4 + 1 = 5\n",
    "    torch.nn.ReLU(),\n",
    "    torch.nn.Sigmoid(),\n",
    "    torch.nn.Linear(16, 16),\n",
    "    torch.nn.ReLU(),\n",
    "    torch.nn.Linear(16, 4),\n",
    "    torch.nn.Sigmoid(),  # give FMC a bit of an advantage (discrim tries to push embedding to higher magnitudes)\n",
    ")\n",
    "\n",
    "# the disc model receives the output embedding from the representation model\n",
    "disc_model = torch.nn.Sequential(\n",
    "    torch.nn.Linear(5, 1),\n",
    "    torch.nn.Sigmoid(),  # between 0 and 1 confidence values.\n",
    ")\n",
    "\n",
    "action_vec = lambda x: torch.tensor(x).flatten().int().item()\n",
    "\n",
    "model = FMZGModel(\n",
    "    env,\n",
    "    rep_model, \n",
    "    dyn_model, \n",
    "    disc_model, \n",
    "    num_walkers=256,\n",
    "    action_vectorizer=action_vec,\n",
    ")\n",
    "\n",
    "expert_dataset = ExpertDatasetGenerator(\n",
    "    get_expert_action,\n",
    "    env,\n",
    "    action_vectorizer=action_vec,\n",
    ")\n",
    "\n",
    "discriminator_optimizer = torch.optim.Adam([\n",
    "    *rep_model.parameters(), \n",
    "    *dyn_model.parameters(),\n",
    "    *disc_model.parameters(),\n",
    "], lr=0.001)\n",
    "\n",
    "trainer = FractalMuZeroDiscriminatorTrainer(env, model, expert_dataset, discriminator_optimizer)"
   ]
  },
  {
   "cell_type": "code",
   "execution_count": 5,
   "metadata": {},
   "outputs": [],
   "source": [
    "# trainer._get_agent_trajectory(200, render=True)\n",
    "# env.close()"
   ]
  },
  {
   "cell_type": "code",
   "execution_count": 6,
   "metadata": {},
   "outputs": [
    {
     "name": "stderr",
     "output_type": "stream",
     "text": [
      "/home/nollyd/anaconda3/envs/gailzero/lib/python3.10/site-packages/notebook/utils.py:280: DeprecationWarning: distutils Version classes are deprecated. Use packaging.version instead.\n",
      "  return LooseVersion(v) >= LooseVersion(check)\n",
      "\u001b[34m\u001b[1mwandb\u001b[0m: Currently logged in as: \u001b[33mdyllan\u001b[0m. Use \u001b[1m`wandb login --relogin`\u001b[0m to force relogin\n",
      "/home/nollyd/anaconda3/envs/gailzero/lib/python3.10/site-packages/wandb/sdk/lib/ipython.py:46: DeprecationWarning: Importing display from IPython.core.display is deprecated since IPython 7.14, please import from IPython display\n",
      "  from IPython.core.display import HTML, display  # type: ignore\n"
     ]
    },
    {
     "data": {
      "text/html": [
       "Tracking run with wandb version 0.13.3"
      ],
      "text/plain": [
       "<IPython.core.display.HTML object>"
      ]
     },
     "metadata": {},
     "output_type": "display_data"
    },
    {
     "data": {
      "text/html": [
       "Run data is saved locally in <code>/home/nollyd/Code/fractal-zero/notebooks/wandb/run-20220930_231653-1v5be9x1</code>"
      ],
      "text/plain": [
       "<IPython.core.display.HTML object>"
      ]
     },
     "metadata": {},
     "output_type": "display_data"
    },
    {
     "data": {
      "text/html": [
       "Syncing run <strong><a href=\"https://wandb.ai/dyllan/fractal_muzero_cartpole/runs/1v5be9x1\" target=\"_blank\">earnest-smoke-1</a></strong> to <a href=\"https://wandb.ai/dyllan/fractal_muzero_cartpole\" target=\"_blank\">Weights & Biases</a> (<a href=\"https://wandb.me/run\" target=\"_blank\">docs</a>)<br/>"
      ],
      "text/plain": [
       "<IPython.core.display.HTML object>"
      ]
     },
     "metadata": {},
     "output_type": "display_data"
    },
    {
     "data": {
      "text/html": [
       "<button onClick=\"this.nextSibling.style.display='block';this.style.display='none';\">Display W&B run</button><iframe src=\"https://wandb.ai/dyllan/fractal_muzero_cartpole/runs/1v5be9x1?jupyter=true\" style=\"border:none;width:100%;height:420px;display:none;\"></iframe>"
      ],
      "text/plain": [
       "<wandb.sdk.wandb_run.Run at 0x7f12518b6410>"
      ]
     },
     "execution_count": 6,
     "metadata": {},
     "output_type": "execute_result"
    }
   ],
   "source": [
    "wandb.init(project=\"fractal_muzero_cartpole\")"
   ]
  },
  {
   "cell_type": "code",
   "execution_count": 7,
   "metadata": {},
   "outputs": [
    {
     "name": "stderr",
     "output_type": "stream",
     "text": [
      "/tmp/ipykernel_943303/3228566961.py:5: TqdmDeprecationWarning: This function will be removed in tqdm==5.0.0\n",
      "Please use `tqdm.notebook.tqdm` instead of `tqdm.tqdm_notebook`\n",
      "  for _ in tqdm(range(episodes), desc=\"Training Episodes\"):\n"
     ]
    },
    {
     "data": {
      "application/vnd.jupyter.widget-view+json": {
       "model_id": "50a424d6873a498096b7305776a7ae6c",
       "version_major": 2,
       "version_minor": 0
      },
      "text/plain": [
       "Training Episodes:   0%|          | 0/100 [00:00<?, ?it/s]"
      ]
     },
     "metadata": {},
     "output_type": "display_data"
    },
    {
     "name": "stderr",
     "output_type": "stream",
     "text": [
      "/tmp/ipykernel_943303/2139027595.py:27: UserWarning: To copy construct from a tensor, it is recommended to use sourceTensor.clone().detach() or sourceTensor.clone().detach().requires_grad_(True), rather than torch.tensor(sourceTensor).\n",
      "  action_vec = lambda x: torch.tensor(x).flatten().int().item()\n"
     ]
    }
   ],
   "source": [
    "episodes = 100\n",
    "train_steps = 10\n",
    "max_steps = 200\n",
    "\n",
    "for _ in tqdm(range(episodes), desc=\"Training Episodes\"):\n",
    "    trainer.generate_batches(max_steps)\n",
    "\n",
    "    for _ in range(train_steps):\n",
    "        loss = trainer.train_step()"
   ]
  },
  {
   "cell_type": "code",
   "execution_count": null,
   "metadata": {},
   "outputs": [],
   "source": [
    "trainer.fmc.distances.mean()"
   ]
  },
  {
   "cell_type": "code",
   "execution_count": null,
   "metadata": {},
   "outputs": [],
   "source": [
    "trainer._get_agent_trajectory(max_steps, render=True)"
   ]
  },
  {
   "cell_type": "code",
   "execution_count": null,
   "metadata": {},
   "outputs": [],
   "source": [
    "len(trainer.fmc.tree.best_path)"
   ]
  },
  {
   "cell_type": "code",
   "execution_count": null,
   "metadata": {},
   "outputs": [],
   "source": [
    "trainer.fmc.tree.best_path.total_reward"
   ]
  },
  {
   "cell_type": "code",
   "execution_count": null,
   "metadata": {},
   "outputs": [],
   "source": [
    "env.close()"
   ]
  },
  {
   "cell_type": "code",
   "execution_count": null,
   "metadata": {},
   "outputs": [],
   "source": [
    "trainer.fmc.tree.render()"
   ]
  },
  {
   "cell_type": "code",
   "execution_count": null,
   "metadata": {},
   "outputs": [],
   "source": []
  }
 ],
 "metadata": {
  "kernelspec": {
   "display_name": "Python 3.10.0 ('gailzero')",
   "language": "python",
   "name": "python3"
  },
  "language_info": {
   "codemirror_mode": {
    "name": "ipython",
    "version": 3
   },
   "file_extension": ".py",
   "mimetype": "text/x-python",
   "name": "python",
   "nbconvert_exporter": "python",
   "pygments_lexer": "ipython3",
   "version": "3.10.0"
  },
  "orig_nbformat": 4,
  "vscode": {
   "interpreter": {
    "hash": "ac9119dd7d1378442db83eb401302935516d5b6c817f3460e2dfcb82db0e6696"
   }
  }
 },
 "nbformat": 4,
 "nbformat_minor": 2
}
