{
 "cells": [
  {
   "cell_type": "code",
   "execution_count": 1,
   "metadata": {},
   "outputs": [
    {
     "name": "stderr",
     "output_type": "stream",
     "text": [
      "WARNING: CPU random generator seem to be failing, disabling hardware random number generation\n",
      "WARNING: RDRND generated: 0xffffffff 0xffffffff 0xffffffff 0xffffffff\n"
     ]
    }
   ],
   "source": [
    "from fractal_zero.trainers.muzero_discriminator import FractalMuZeroDiscriminatorTrainer, FMZGModel\n",
    "from fractal_zero.models.joint_model import JointModel\n",
    "\n",
    "from fractal_zero.data.expert_dataset import ExpertDatasetGenerator\n",
    "from fractal_zero.vectorized_environment import load_environment\n",
    "\n",
    "\n",
    "import torch"
   ]
  },
  {
   "cell_type": "code",
   "execution_count": 2,
   "metadata": {},
   "outputs": [
    {
     "name": "stderr",
     "output_type": "stream",
     "text": [
      "/home/nollyd/anaconda3/envs/gailzero/lib/python3.10/site-packages/gym/envs/registration.py:593: UserWarning: \u001b[33mWARN: The environment CartPole-v0 is out of date. You should consider upgrading to version `v1`.\u001b[0m\n",
      "  logger.warn(\n",
      "/home/nollyd/anaconda3/envs/gailzero/lib/python3.10/site-packages/gym/core.py:317: DeprecationWarning: \u001b[33mWARN: Initializing wrapper in old step API which returns one bool instead of two. It is recommended to set `new_step_api=True` to use new step API. This will be the default behaviour in future.\u001b[0m\n",
      "  deprecation(\n",
      "/home/nollyd/anaconda3/envs/gailzero/lib/python3.10/site-packages/gym/wrappers/step_api_compatibility.py:39: DeprecationWarning: \u001b[33mWARN: Initializing environment in old step API which returns one bool instead of two. It is recommended to set `new_step_api=True` to use new step API. This will be the default behaviour in future.\u001b[0m\n",
      "  deprecation(\n"
     ]
    }
   ],
   "source": [
    "env = load_environment(\"CartPole-v0\")"
   ]
  },
  {
   "cell_type": "code",
   "execution_count": 3,
   "metadata": {},
   "outputs": [],
   "source": [
    "# get_expert_action = lambda x: env.action_space.sample()  # random policy\n",
    "\n",
    "_expert_policy_model = torch.load(\"models/best_cartpole_policy.pth\")\n",
    "def get_expert_action(x):\n",
    "    embedded_actions = _expert_policy_model.forward(x)\n",
    "    return _expert_policy_model.parse_actions(embedded_actions)\n",
    "\n",
    "# play with the expert for a bit\n",
    "# obs = env.reset()\n",
    "# total_reward = 0\n",
    "# for _ in range(200):\n",
    "#     action = get_expert_action(obs)\n",
    "#     obs, reward, done, info = env.step(action)\n",
    "#     total_reward += reward\n",
    "#     env.render()\n",
    "#     if done:\n",
    "#         break\n",
    "\n",
    "# env.close()\n",
    "# print(f\"total_reward={total_reward}\")"
   ]
  },
  {
   "cell_type": "code",
   "execution_count": 4,
   "metadata": {},
   "outputs": [],
   "source": [
    "# rep_model = torch.nn.Sequential(\n",
    "#     torch.nn.Linear(4, 16),\n",
    "#     torch.nn.ReLU(),\n",
    "#     torch.nn.Linear(16, 16),\n",
    "#     torch.nn.ReLU(),\n",
    "#     torch.nn.Linear(16, 4),\n",
    "#     torch.nn.ReLU(),\n",
    "# )\n",
    "rep_model = torch.nn.Identity()\n",
    "\n",
    "dyn_model = torch.nn.Sequential(\n",
    "    torch.nn.Linear(5, 16),  # obs space + action embedding = 4 + 1 = 5\n",
    "    torch.nn.ReLU(),\n",
    "    torch.nn.Sigmoid(),\n",
    "    torch.nn.Linear(16, 16),\n",
    "    torch.nn.ReLU(),\n",
    "    torch.nn.Linear(16, 4),\n",
    "    torch.nn.Sigmoid(),  # give FMC a bit of an advantage (discrim tries to push embedding to higher magnitudes)\n",
    ")\n",
    "\n",
    "# the disc model receives the output embedding from the representation model\n",
    "disc_model = torch.nn.Sequential(\n",
    "    torch.nn.Linear(5, 1),\n",
    "    torch.nn.Sigmoid(),  # between 0 and 1 confidence values.\n",
    ")\n",
    "\n",
    "action_vec = lambda x: torch.tensor(x).flatten().int().item()\n",
    "\n",
    "model = FMZGModel(\n",
    "    rep_model, \n",
    "    dyn_model, \n",
    "    disc_model, \n",
    "    num_walkers=256,\n",
    "    action_vectorizer=action_vec,\n",
    ")\n",
    "\n",
    "expert_dataset = ExpertDatasetGenerator(\n",
    "    get_expert_action,\n",
    "    env,\n",
    "    action_vectorizer=action_vec,\n",
    ")\n",
    "\n",
    "discriminator_optimizer = torch.optim.Adam([\n",
    "    *rep_model.parameters(), \n",
    "    *dyn_model.parameters(),\n",
    "    *disc_model.parameters(),\n",
    "], lr=0.01)\n",
    "\n",
    "trainer = FractalMuZeroDiscriminatorTrainer(env, model, expert_dataset, discriminator_optimizer)"
   ]
  },
  {
   "cell_type": "code",
   "execution_count": 5,
   "metadata": {},
   "outputs": [],
   "source": [
    "# trainer._get_agent_trajectory(200, render=True)\n",
    "# env.close()"
   ]
  },
  {
   "cell_type": "code",
   "execution_count": 6,
   "metadata": {},
   "outputs": [
    {
     "name": "stderr",
     "output_type": "stream",
     "text": [
      "/home/nollyd/Code/fractal-zero/fractal_zero/search/fmc.py:221: UserWarning: To copy construct from a tensor, it is recommended to use sourceTensor.clone().detach() or sourceTensor.clone().detach().requires_grad_(True), rather than torch.tensor(sourceTensor).\n",
      "  random_actions = torch.tensor(random_parsed_actions, device=self.device)\n"
     ]
    },
    {
     "name": "stdout",
     "output_type": "stream",
     "text": [
      "0.5787310346827896 tensor(0.3107) tensor(0.0029)\n",
      "0.5705168173646845 tensor(0.3206) tensor(0.0029)\n",
      "0.5640122908394857 tensor(0.3322) tensor(0.0027)\n",
      "0.5579019921135092 tensor(0.3434) tensor(0.0030)\n",
      "0.5491842776370115 tensor(0.3550) tensor(0.0032)\n",
      "0.5423199554059845 tensor(0.3679) tensor(0.0029)\n",
      "0.538463450849479 tensor(0.3799) tensor(0.0029)\n",
      "0.5332719351148579 tensor(0.3912) tensor(0.0035)\n",
      "0.5245437859892336 tensor(0.4030) tensor(0.0033)\n",
      "0.5215429485328751 tensor(0.4144) tensor(0.0033)\n",
      "0.51600447174708 tensor(0.4260) tensor(0.0036)\n",
      "0.5136245416016938 tensor(0.4358) tensor(0.0034)\n",
      "0.5089071846103976 tensor(0.4461) tensor(0.0030)\n",
      "0.5060622042462704 tensor(0.4564) tensor(0.0032)\n",
      "0.5023618517332327 tensor(0.4654) tensor(0.0028)\n",
      "0.5000293621657574 tensor(0.4737) tensor(0.0023)\n",
      "0.49921615197418656 tensor(0.4813) tensor(0.0018)\n",
      "0.49930551517525673 tensor(0.4888) tensor(0.0014)\n",
      "0.49836165831474877 tensor(0.4955) tensor(0.0013)\n",
      "0.4978620525392512 tensor(0.5023) tensor(0.0011)\n",
      "0.49893274239829766 tensor(0.5079) tensor(0.0010)\n",
      "0.4976472580646869 tensor(0.5134) tensor(0.0007)\n",
      "0.4982649745927362 tensor(0.5184) tensor(0.0008)\n",
      "0.4966811815270576 tensor(0.5228) tensor(0.0007)\n",
      "0.4961459911115148 tensor(0.5267) tensor(0.0008)\n",
      "0.4974385457283871 tensor(0.5300) tensor(0.0007)\n",
      "0.49670260340780725 tensor(0.5325) tensor(0.0006)\n",
      "0.4965526289949943 tensor(0.5342) tensor(0.0007)\n",
      "0.4979259530395148 tensor(0.5355) tensor(0.0006)\n",
      "0.4971398901562498 tensor(0.5363) tensor(0.0005)\n",
      "0.49711551719483427 tensor(0.5366) tensor(0.0004)\n",
      "0.4970421003320401 tensor(0.5369) tensor(0.0004)\n",
      "0.49684904690555665 tensor(0.5370) tensor(0.0004)\n",
      "0.4969213455108787 tensor(0.5370) tensor(0.0004)\n",
      "0.4972139305188777 tensor(0.5371) tensor(0.0003)\n",
      "0.49710462734112376 tensor(0.5370) tensor(0.0004)\n",
      "0.4949484215511871 tensor(0.5369) tensor(0.0004)\n",
      "0.4958334223644141 tensor(0.5368) tensor(0.0005)\n",
      "0.4972256661808636 tensor(0.5363) tensor(0.0005)\n",
      "0.49635117215498287 tensor(0.5356) tensor(0.0004)\n",
      "0.495458129751202 tensor(0.5345) tensor(0.0004)\n",
      "0.5007399466896985 tensor(0.5331) tensor(0.0004)\n",
      "0.4943476767977635 tensor(0.5317) tensor(0.0004)\n",
      "0.49752318942110085 tensor(0.5303) tensor(0.0005)\n",
      "0.495809165716289 tensor(0.5290) tensor(0.0004)\n",
      "0.4952055994278598 tensor(0.5279) tensor(0.0005)\n",
      "0.4942600740072009 tensor(0.5269) tensor(0.0004)\n",
      "0.4964140895909121 tensor(0.5257) tensor(0.0006)\n",
      "0.4969730398233802 tensor(0.5244) tensor(0.0005)\n",
      "0.4959069128124229 tensor(0.5229) tensor(0.0005)\n",
      "0.4949054482284486 tensor(0.5214) tensor(0.0005)\n",
      "0.49606585569859957 tensor(0.5201) tensor(0.0005)\n",
      "0.49534861521327045 tensor(0.5189) tensor(0.0005)\n",
      "0.4960257054849939 tensor(0.5180) tensor(0.0005)\n",
      "0.49532609550653406 tensor(0.5172) tensor(0.0006)\n",
      "0.49404606091430264 tensor(0.5164) tensor(0.0005)\n",
      "0.49466965144258174 tensor(0.5154) tensor(0.0005)\n",
      "0.49322975221294507 tensor(0.5145) tensor(0.0005)\n",
      "0.49569349613031705 tensor(0.5135) tensor(0.0004)\n",
      "0.4953276907345293 tensor(0.5128) tensor(0.0005)\n",
      "0.49361059682746955 tensor(0.5122) tensor(0.0004)\n",
      "0.49656101552067233 tensor(0.5120) tensor(0.0004)\n",
      "0.49512214286610184 tensor(0.5119) tensor(0.0004)\n",
      "0.4934829481521227 tensor(0.5119) tensor(0.0005)\n",
      "0.4950407351480444 tensor(0.5120) tensor(0.0005)\n",
      "0.49529354079954996 tensor(0.5118) tensor(0.0005)\n",
      "0.4950229015507235 tensor(0.5116) tensor(0.0005)\n",
      "0.49777951725927955 tensor(0.5112) tensor(0.0005)\n",
      "0.4943329469209915 tensor(0.5108) tensor(0.0005)\n",
      "0.4936887618432485 tensor(0.5107) tensor(0.0004)\n",
      "0.4945289781076923 tensor(0.5107) tensor(0.0004)\n",
      "0.4963818939513155 tensor(0.5110) tensor(0.0004)\n",
      "0.4960517759329145 tensor(0.5114) tensor(0.0004)\n",
      "0.4948094569318683 tensor(0.5117) tensor(0.0004)\n",
      "0.4959843747503394 tensor(0.5119) tensor(0.0004)\n",
      "0.4957641243605191 tensor(0.5121) tensor(0.0004)\n",
      "0.49403764453299076 tensor(0.5121) tensor(0.0004)\n",
      "0.4945691657612693 tensor(0.5120) tensor(0.0003)\n",
      "0.49522339565091145 tensor(0.5118) tensor(0.0003)\n",
      "0.49461463591169125 tensor(0.5118) tensor(0.0004)\n",
      "0.4955451424763691 tensor(0.5119) tensor(0.0003)\n",
      "0.4952891006201755 tensor(0.5122) tensor(0.0003)\n",
      "0.49608179890820364 tensor(0.5126) tensor(0.0003)\n",
      "0.4964367800829043 tensor(0.5130) tensor(0.0003)\n",
      "0.4943365092091432 tensor(0.5134) tensor(0.0003)\n",
      "0.4943061010625189 tensor(0.5136) tensor(0.0003)\n",
      "0.49392348119349777 tensor(0.5136) tensor(0.0003)\n",
      "0.49266754557051906 tensor(0.5136) tensor(0.0003)\n",
      "0.4932280179088596 tensor(0.5135) tensor(0.0003)\n",
      "0.4936209745917141 tensor(0.5135) tensor(0.0003)\n",
      "0.4933501062783367 tensor(0.5137) tensor(0.0003)\n",
      "0.49458851880385124 tensor(0.5141) tensor(0.0003)\n",
      "0.49898925714823167 tensor(0.5146) tensor(0.0003)\n",
      "0.49197013551600033 tensor(0.5149) tensor(0.0004)\n",
      "0.49344164831062515 tensor(0.5151) tensor(0.0004)\n",
      "0.49356299892711725 tensor(0.5152) tensor(0.0004)\n",
      "0.4978700926589532 tensor(0.5150) tensor(0.0004)\n",
      "0.49422200905528946 tensor(0.5149) tensor(0.0004)\n",
      "0.49560487356779703 tensor(0.5149) tensor(0.0004)\n",
      "0.4945476335430755 tensor(0.5150) tensor(0.0003)\n"
     ]
    }
   ],
   "source": [
    "max_steps = 16\n",
    "for _ in range(100):\n",
    "    print(trainer.train_step(max_steps), trainer.fmc.rewards.mean(), trainer.fmc.distances.mean())"
   ]
  },
  {
   "cell_type": "code",
   "execution_count": 7,
   "metadata": {},
   "outputs": [
    {
     "data": {
      "text/plain": [
       "tensor(0.0003)"
      ]
     },
     "execution_count": 7,
     "metadata": {},
     "output_type": "execute_result"
    }
   ],
   "source": [
    "trainer.fmc.distances.mean()"
   ]
  },
  {
   "cell_type": "code",
   "execution_count": 8,
   "metadata": {},
   "outputs": [
    {
     "name": "stderr",
     "output_type": "stream",
     "text": [
      "/home/nollyd/anaconda3/envs/gailzero/lib/python3.10/site-packages/gym/core.py:49: DeprecationWarning: \u001b[33mWARN: You are calling render method, but you didn't specified the argument render_mode at environment initialization. To maintain backward compatibility, the environment will render in human mode.\n",
      "If you want to render in human mode, initialize the environment in this way: gym.make('EnvName', render_mode='human') and don't call the render method.\n",
      "See here for more information: https://www.gymlibrary.ml/content/api/\u001b[0m\n",
      "  deprecation(\n"
     ]
    },
    {
     "data": {
      "text/plain": [
       "(tensor([[ 9.1259e-03,  1.8283e-02,  7.1712e-03, -4.0627e-02],\n",
       "         [ 9.4915e-03,  2.1330e-01,  6.3587e-03, -3.3104e-01],\n",
       "         [ 1.3758e-02,  4.0833e-01, -2.6211e-04, -6.2171e-01],\n",
       "         [ 2.1924e-02,  6.0346e-01, -1.2696e-02, -9.1448e-01],\n",
       "         [ 3.3993e-02,  7.9875e-01, -3.0986e-02, -1.2111e+00],\n",
       "         [ 4.9968e-02,  9.9426e-01, -5.5208e-02, -1.5134e+00],\n",
       "         [ 6.9853e-02,  1.1900e+00, -8.5475e-02, -1.8227e+00],\n",
       "         [ 9.3654e-02,  1.3860e+00, -1.2193e-01, -2.1407e+00],\n",
       "         [ 1.2137e-01,  1.5821e+00, -1.6474e-01, -2.4684e+00]],\n",
       "        dtype=torch.float64),\n",
       " tensor([1, 1, 1, 1, 1, 1, 1, 1, 1]))"
      ]
     },
     "execution_count": 8,
     "metadata": {},
     "output_type": "execute_result"
    }
   ],
   "source": [
    "trainer._get_agent_trajectory(max_steps, render=True)"
   ]
  },
  {
   "cell_type": "code",
   "execution_count": 9,
   "metadata": {},
   "outputs": [],
   "source": [
    "env.close()"
   ]
  },
  {
   "cell_type": "code",
   "execution_count": null,
   "metadata": {},
   "outputs": [],
   "source": []
  }
 ],
 "metadata": {
  "kernelspec": {
   "display_name": "Python 3.10.0 ('gailzero')",
   "language": "python",
   "name": "python3"
  },
  "language_info": {
   "codemirror_mode": {
    "name": "ipython",
    "version": 3
   },
   "file_extension": ".py",
   "mimetype": "text/x-python",
   "name": "python",
   "nbconvert_exporter": "python",
   "pygments_lexer": "ipython3",
   "version": "3.10.0"
  },
  "orig_nbformat": 4,
  "vscode": {
   "interpreter": {
    "hash": "ac9119dd7d1378442db83eb401302935516d5b6c817f3460e2dfcb82db0e6696"
   }
  }
 },
 "nbformat": 4,
 "nbformat_minor": 2
}
