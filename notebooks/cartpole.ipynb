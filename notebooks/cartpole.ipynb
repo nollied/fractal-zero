{
 "cells": [
  {
   "cell_type": "code",
   "execution_count": null,
   "metadata": {},
   "outputs": [],
   "source": [
    "import gym\n",
    "import wandb\n",
    "from tqdm.notebook import tqdm_notebook\n",
    "\n",
    "from fractal_zero.models import (\n",
    "    FullyConnectedDynamicsModel, \n",
    "    FullyConnectedRepresentationModel, \n",
    "    FullyConnectedPredictionModel,\n",
    "    JointModel,\n",
    ")\n",
    "\n",
    "from fractal_zero.data.data_handler import DataHandler\n",
    "from fractal_zero.fractal_zero import FractalZero\n",
    "from fractal_zero.trainer import FractalZeroTrainer\n",
    "\n",
    "from fractal_zero.config import FractalZeroConfig"
   ]
  },
  {
   "cell_type": "code",
   "execution_count": null,
   "metadata": {},
   "outputs": [],
   "source": [
    "env = gym.make(\"CartPole-v0\")"
   ]
  },
  {
   "cell_type": "code",
   "execution_count": null,
   "metadata": {},
   "outputs": [],
   "source": [
    "embedding_size = 8\n",
    "out_features = 1\n",
    "\n",
    "representation_model = FullyConnectedRepresentationModel(env, embedding_size)\n",
    "dynamics_model = FullyConnectedDynamicsModel(\n",
    "    env, embedding_size, out_features=out_features\n",
    ")\n",
    "prediction_model = FullyConnectedPredictionModel(env, embedding_size)\n",
    "joint_model = JointModel(representation_model, dynamics_model, prediction_model)"
   ]
  },
  {
   "cell_type": "code",
   "execution_count": null,
   "metadata": {},
   "outputs": [],
   "source": [
    "config = FractalZeroConfig(\n",
    "    env,\n",
    "    joint_model,\n",
    "    max_replay_buffer_size=512,\n",
    "    replay_buffer_pop_strategy=\"balanced\",\n",
    "    num_games=5_000,\n",
    "    max_game_steps=200,                                         # cartpole maxes out at 200 steps.\n",
    "    max_batch_size=128,\n",
    "    unroll_steps=16,\n",
    "    learning_rate=0.01,\n",
    "    optimizer=\"SGD\",\n",
    "    weight_decay=1e-4,\n",
    "    momentum=0.9,                                               # only if optimizer is SGD\n",
    "    num_walkers=64,\n",
    "    balance=1.0,\n",
    "    lookahead_steps=16,\n",
    "    evaluation_lookahead_steps=16,\n",
    "    wandb_config={\"project\": \"fractal_zero_cartpole\"},\n",
    ")\n",
    "\n",
    "# TODO: make this logic automatic in config somehow?\n",
    "config.joint_model = config.joint_model.to(config.device)"
   ]
  },
  {
   "cell_type": "code",
   "execution_count": null,
   "metadata": {},
   "outputs": [],
   "source": [
    "config.asdict()"
   ]
  },
  {
   "cell_type": "code",
   "execution_count": null,
   "metadata": {},
   "outputs": [],
   "source": [
    "# %%prun -s cumtime -T cartpole_profile.txt -q -l 100\n",
    "\n",
    "# TODO: move into config?\n",
    "train_every = 1\n",
    "train_batches = 1\n",
    "evaluate_every = 16\n",
    "eval_steps = 16\n",
    "\n",
    "data_handler = DataHandler(config)\n",
    "fractal_zero = FractalZero(config)\n",
    "trainer = FractalZeroTrainer(\n",
    "    fractal_zero,\n",
    "    data_handler,\n",
    ")\n",
    "\n",
    "for i in tqdm_notebook(\n",
    "    range(config.num_games),\n",
    "    desc=\"Playing games and training\",\n",
    "    total=config.num_games,\n",
    "):\n",
    "    trainer.play_game_store_history()\n",
    "\n",
    "    if (i + 1) % train_every == 0:\n",
    "        for _ in range(train_batches):\n",
    "            trainer.train_step()\n",
    "\n",
    "    if (i + 1) % evaluate_every == 0:\n",
    "        trainer.evaluate(eval_steps)"
   ]
  },
  {
   "cell_type": "code",
   "execution_count": null,
   "metadata": {},
   "outputs": [],
   "source": [
    "\n"
   ]
  }
 ],
 "metadata": {
  "kernelspec": {
   "display_name": "Python 3.10.0 ('gailzero')",
   "language": "python",
   "name": "python3"
  },
  "language_info": {
   "codemirror_mode": {
    "name": "ipython",
    "version": 3
   },
   "file_extension": ".py",
   "mimetype": "text/x-python",
   "name": "python",
   "nbconvert_exporter": "python",
   "pygments_lexer": "ipython3",
   "version": "3.10.0"
  },
  "orig_nbformat": 4,
  "vscode": {
   "interpreter": {
    "hash": "ac9119dd7d1378442db83eb401302935516d5b6c817f3460e2dfcb82db0e6696"
   }
  }
 },
 "nbformat": 4,
 "nbformat_minor": 2
}
