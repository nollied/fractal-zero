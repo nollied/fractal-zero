{
 "cells": [
  {
   "cell_type": "code",
   "execution_count": 1,
   "metadata": {},
   "outputs": [
    {
     "name": "stderr",
     "output_type": "stream",
     "text": [
      "WARNING: CPU random generator seem to be failing, disabling hardware random number generation\n",
      "WARNING: RDRND generated: 0xffffffff 0xffffffff 0xffffffff 0xffffffff\n"
     ]
    }
   ],
   "source": [
    "import gym\n",
    "import wandb\n",
    "from tqdm.notebook import tqdm_notebook\n",
    "\n",
    "from fractal_zero.models import (\n",
    "    FullyConnectedDynamicsModel, \n",
    "    FullyConnectedRepresentationModel, \n",
    "    FullyConnectedPredictionModel,\n",
    "    JointModel,\n",
    ")\n",
    "\n",
    "from fractal_zero.data.data_handler import DataHandler\n",
    "from fractal_zero.fractal_zero import FractalZero\n",
    "from fractal_zero.trainer import FractalZeroTrainer\n",
    "\n",
    "from fractal_zero.config import FractalZeroConfig\n"
   ]
  },
  {
   "cell_type": "code",
   "execution_count": 2,
   "metadata": {},
   "outputs": [
    {
     "name": "stderr",
     "output_type": "stream",
     "text": [
      "/home/nollyd/anaconda3/envs/gailzero/lib/python3.10/site-packages/gym/envs/registration.py:593: UserWarning: \u001b[33mWARN: The environment CartPole-v0 is out of date. You should consider upgrading to version `v1`.\u001b[0m\n",
      "  logger.warn(\n",
      "/home/nollyd/anaconda3/envs/gailzero/lib/python3.10/site-packages/gym/core.py:317: DeprecationWarning: \u001b[33mWARN: Initializing wrapper in old step API which returns one bool instead of two. It is recommended to set `new_step_api=True` to use new step API. This will be the default behaviour in future.\u001b[0m\n",
      "  deprecation(\n",
      "/home/nollyd/anaconda3/envs/gailzero/lib/python3.10/site-packages/gym/wrappers/step_api_compatibility.py:39: DeprecationWarning: \u001b[33mWARN: Initializing environment in old step API which returns one bool instead of two. It is recommended to set `new_step_api=True` to use new step API. This will be the default behaviour in future.\u001b[0m\n",
      "  deprecation(\n"
     ]
    }
   ],
   "source": [
    "env = gym.make(\"CartPole-v0\")"
   ]
  },
  {
   "cell_type": "code",
   "execution_count": 3,
   "metadata": {},
   "outputs": [],
   "source": [
    "embedding_size = 16\n",
    "out_features = 1\n",
    "\n",
    "representation_model = FullyConnectedRepresentationModel(env, embedding_size)\n",
    "dynamics_model = FullyConnectedDynamicsModel(\n",
    "    env, embedding_size, out_features=out_features\n",
    ")\n",
    "prediction_model = FullyConnectedPredictionModel(env, embedding_size)\n",
    "joint_model = JointModel(representation_model, dynamics_model, prediction_model)"
   ]
  },
  {
   "cell_type": "code",
   "execution_count": 6,
   "metadata": {},
   "outputs": [],
   "source": [
    "config = FractalZeroConfig(\n",
    "    env,\n",
    "    joint_model,\n",
    "    max_replay_buffer_size=8,\n",
    "    replay_buffer_pop_strategy=\"balanced\",\n",
    "    num_games=128,\n",
    "    max_game_steps=200,\n",
    "    max_batch_size=128,\n",
    "    unroll_steps=16,\n",
    "    learning_rate=0.003,\n",
    "    optimizer=\"SGD\",\n",
    "    weight_decay=1e-4,\n",
    "    momentum=0.9,  # only if optimizer is SGD\n",
    "    num_walkers=64,\n",
    "    balance=1.0,\n",
    "    lookahead_steps=64,\n",
    "    evaluation_lookahead_steps=64,\n",
    "    # wandb_config={\"project\": \"fractal_zero_cartpole\"},\n",
    ")\n",
    "\n",
    "# TODO: make this logic automatic in config somehow?\n",
    "config.joint_model = config.joint_model.to(config.device)"
   ]
  },
  {
   "cell_type": "code",
   "execution_count": 7,
   "metadata": {},
   "outputs": [
    {
     "data": {
      "text/plain": [
       "{'joint_model': JointModel(\n",
       "   (representation_model): FullyConnectedRepresentationModel(\n",
       "     (net): Sequential(\n",
       "       (0): Linear(in_features=4, out_features=16, bias=True)\n",
       "       (1): ReLU()\n",
       "       (2): Linear(in_features=16, out_features=16, bias=True)\n",
       "       (3): ReLU()\n",
       "       (4): Linear(in_features=16, out_features=16, bias=True)\n",
       "     )\n",
       "   )\n",
       "   (dynamics_model): FullyConnectedDynamicsModel(\n",
       "     (embedding_net): Sequential(\n",
       "       (0): Linear(in_features=17, out_features=16, bias=True)\n",
       "       (1): ReLU()\n",
       "       (2): Linear(in_features=16, out_features=16, bias=True)\n",
       "       (3): ReLU()\n",
       "       (4): Linear(in_features=16, out_features=16, bias=True)\n",
       "       (5): ReLU()\n",
       "     )\n",
       "     (auxiliary_net): Sequential(\n",
       "       (0): Linear(in_features=16, out_features=1, bias=True)\n",
       "     )\n",
       "   )\n",
       "   (prediction_model): FullyConnectedPredictionModel(\n",
       "     (policy_head): Linear(in_features=16, out_features=1, bias=True)\n",
       "     (value_head): Linear(in_features=16, out_features=1, bias=True)\n",
       "   )\n",
       " ),\n",
       " 'max_replay_buffer_size': 8,\n",
       " 'replay_buffer_pop_strategy': 'balanced',\n",
       " 'num_games': 128,\n",
       " 'max_game_steps': 200,\n",
       " 'max_batch_size': 128,\n",
       " 'dynamic_batch_size': True,\n",
       " 'gamma': 0.99,\n",
       " 'unroll_steps': 16,\n",
       " 'minimize_batch_padding': True,\n",
       " 'learning_rate': 0.003,\n",
       " 'lr_scheduler_config': {'alias': 'ConstantLR',\n",
       "  'class': torch.optim.lr_scheduler.StepLR,\n",
       "  'step_size': 999999,\n",
       "  'gamma': 1},\n",
       " 'weight_decay': 0.0001,\n",
       " 'momentum': 0.9,\n",
       " 'optimizer': 'SGD',\n",
       " 'num_walkers': 64,\n",
       " 'balance': 1.0,\n",
       " 'lookahead_steps': 64,\n",
       " 'evaluation_lookahead_steps': 64,\n",
       " 'fmc_backprop_strategy': 'all',\n",
       " 'device': device(type='cuda'),\n",
       " 'wandb_config': None,\n",
       " 'env': 'CartPole-v0'}"
      ]
     },
     "execution_count": 7,
     "metadata": {},
     "output_type": "execute_result"
    }
   ],
   "source": [
    "config.asdict()"
   ]
  },
  {
   "cell_type": "code",
   "execution_count": 8,
   "metadata": {},
   "outputs": [
    {
     "data": {
      "application/vnd.jupyter.widget-view+json": {
       "model_id": "91415b251ed64bada28cb460b6bc5cfe",
       "version_major": 2,
       "version_minor": 0
      },
      "text/plain": [
       "Playing games and training:   0%|          | 0/128 [00:00<?, ?it/s]"
      ]
     },
     "metadata": {},
     "output_type": "display_data"
    }
   ],
   "source": [
    "%%prun -s cumtime -T cartpole_profile.txt -q -l 50\n",
    "\n",
    "# TODO: move into config?\n",
    "train_every = 1\n",
    "train_batches = 2\n",
    "evaluate_every = 16\n",
    "eval_steps = 16\n",
    "\n",
    "data_handler = DataHandler(config)\n",
    "fractal_zero = FractalZero(config)\n",
    "trainer = FractalZeroTrainer(\n",
    "    fractal_zero,\n",
    "    data_handler,\n",
    ")\n",
    "\n",
    "for i in tqdm_notebook(\n",
    "    range(config.num_games),\n",
    "    desc=\"Playing games and training\",\n",
    "    total=config.num_games,\n",
    "):\n",
    "    fractal_zero.train()\n",
    "    game_history = fractal_zero.play_game()\n",
    "    data_handler.replay_buffer.append(game_history)\n",
    "\n",
    "    if i % train_every == 0:\n",
    "        for _ in range(train_batches):\n",
    "            trainer.train_step()\n",
    "\n",
    "    if i % evaluate_every == 0:\n",
    "        trainer.evaluate(eval_steps)"
   ]
  },
  {
   "cell_type": "code",
   "execution_count": null,
   "metadata": {},
   "outputs": [],
   "source": []
  },
  {
   "cell_type": "code",
   "execution_count": null,
   "metadata": {},
   "outputs": [],
   "source": []
  },
  {
   "cell_type": "code",
   "execution_count": null,
   "metadata": {},
   "outputs": [],
   "source": []
  }
 ],
 "metadata": {
  "kernelspec": {
   "display_name": "Python 3.10.0 ('gailzero')",
   "language": "python",
   "name": "python3"
  },
  "language_info": {
   "codemirror_mode": {
    "name": "ipython",
    "version": 3
   },
   "file_extension": ".py",
   "mimetype": "text/x-python",
   "name": "python",
   "nbconvert_exporter": "python",
   "pygments_lexer": "ipython3",
   "version": "3.10.0"
  },
  "orig_nbformat": 4,
  "vscode": {
   "interpreter": {
    "hash": "ac9119dd7d1378442db83eb401302935516d5b6c817f3460e2dfcb82db0e6696"
   }
  }
 },
 "nbformat": 4,
 "nbformat_minor": 2
}
