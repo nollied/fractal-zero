{
 "cells": [
  {
   "cell_type": "code",
   "execution_count": null,
   "metadata": {},
   "outputs": [],
   "source": [
    "import gym\n",
    "import numpy as np\n",
    "from tqdm import tqdm\n",
    "import torch\n",
    "import wandb\n",
    "\n",
    "from fractal_zero.config import FMCConfig\n",
    "from fractal_zero.search.fmc import FMC\n",
    "from fractal_zero.models.prediction import FullyConnectedPredictionModel\n",
    "from fractal_zero.models.policies.cartpole_policy import CartpolePolicy\n",
    "from fractal_zero.vectorized_environment import (\n",
    "    RayVectorizedEnvironment,\n",
    "    VectorizedDynamicsModelEnvironment,\n",
    "\n",
    ")\n",
    "from fractal_zero.trainers.online import OnlineFMCPolicyTrainer\n",
    "from fractal_zero.tests.test_vectorized_environment import build_test_joint_model"
   ]
  },
  {
   "cell_type": "code",
   "execution_count": null,
   "metadata": {},
   "outputs": [],
   "source": [
    "NUM_WALKERS = 64\n",
    "\n",
    "\n",
    "\n",
    "policy_model = CartpolePolicy()"
   ]
  },
  {
   "cell_type": "code",
   "execution_count": null,
   "metadata": {},
   "outputs": [],
   "source": [
    "# optimizer = torch.optim.SGD(policy_model.parameters(), lr=0.01, weight_decay=1e-4)\n",
    "optimizer = torch.optim.Adam(policy_model.parameters(), lr=0.03, weight_decay=1e-3)\n",
    "# lr_scheduler = torch.optim.lr_scheduler.StepLR(optimizer, step_size=1, gamma=0.5)\n",
    "policy_trainer = OnlineFMCPolicyTrainer(\"CartPole-v0\", policy_model, optimizer, NUM_WALKERS)"
   ]
  },
  {
   "cell_type": "code",
   "execution_count": null,
   "metadata": {},
   "outputs": [],
   "source": [
    "wandb.init(project=\"fz-policy-trainer-game-tree\")"
   ]
  },
  {
   "cell_type": "code",
   "execution_count": null,
   "metadata": {},
   "outputs": [],
   "source": [
    "from copy import deepcopy\n",
    "\n",
    "\n",
    "num_episodes = 10\n",
    "train_steps_per_episode = 100\n",
    "eval_every = 20\n",
    "max_steps = 200\n",
    "\n",
    "best_total_rewards = float(\"-inf\")\n",
    "best_model = None\n",
    "\n",
    "for _ in range(num_episodes):\n",
    "    policy_trainer.generate_episode_data(max_steps)\n",
    "\n",
    "    for i in range(train_steps_per_episode):\n",
    "        policy_trainer.train_on_latest_episode()\n",
    "\n",
    "        if i % eval_every == 0:\n",
    "            total_rewards = policy_trainer.evaluate_policy(max_steps)\n",
    "\n",
    "            if total_rewards > best_total_rewards:\n",
    "                best_total_rewards = total_rewards\n",
    "                best_model = deepcopy(policy_model)\n",
    "                \n",
    "                torch.save(best_model, \"models/online_fmc.pth\")\n",
    "\n",
    "    # lr_scheduler.step()"
   ]
  },
  {
   "cell_type": "code",
   "execution_count": null,
   "metadata": {},
   "outputs": [],
   "source": [
    "policy_trainer.fmc.clone_receives"
   ]
  },
  {
   "cell_type": "code",
   "execution_count": null,
   "metadata": {},
   "outputs": [],
   "source": [
    "# policy_trainer.fmc.tree.render()"
   ]
  },
  {
   "cell_type": "code",
   "execution_count": null,
   "metadata": {},
   "outputs": [],
   "source": [
    "str(policy_trainer.fmc.tree.g)"
   ]
  },
  {
   "cell_type": "code",
   "execution_count": null,
   "metadata": {},
   "outputs": [],
   "source": [
    "# tree = policy_trainer.fmc.tree.g\n",
    "# for node in tree:\n",
    "#     print(node, tree.out_degree(node), node.visits)"
   ]
  },
  {
   "cell_type": "code",
   "execution_count": null,
   "metadata": {},
   "outputs": [],
   "source": []
  },
  {
   "cell_type": "code",
   "execution_count": null,
   "metadata": {},
   "outputs": [],
   "source": []
  }
 ],
 "metadata": {
  "kernelspec": {
   "display_name": "Python 3.10.0 ('gailzero')",
   "language": "python",
   "name": "python3"
  },
  "language_info": {
   "codemirror_mode": {
    "name": "ipython",
    "version": 3
   },
   "file_extension": ".py",
   "mimetype": "text/x-python",
   "name": "python",
   "nbconvert_exporter": "python",
   "pygments_lexer": "ipython3",
   "version": "3.10.0"
  },
  "orig_nbformat": 4,
  "vscode": {
   "interpreter": {
    "hash": "ac9119dd7d1378442db83eb401302935516d5b6c817f3460e2dfcb82db0e6696"
   }
  }
 },
 "nbformat": 4,
 "nbformat_minor": 2
}
