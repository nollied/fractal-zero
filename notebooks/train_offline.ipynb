{
 "cells": [
  {
   "cell_type": "code",
   "execution_count": 6,
   "metadata": {},
   "outputs": [
    {
     "name": "stderr",
     "output_type": "stream",
     "text": [
      "/Users/dyllanquilter/miniconda3/envs/quilt/lib/python3.8/site-packages/ipykernel/ipkernel.py:283: DeprecationWarning: `should_run_async` will not call `transform_cell` automatically in the future. Please pass the result to `transformed_cell` argument and any exception that happen during thetransform in `preprocessing_exc_tuple` in IPython 7.17 and above.\n",
      "  and should_run_async(code)\n"
     ]
    }
   ],
   "source": [
    "import torch\n",
    "\n",
    "from fractal_zero.trainers.offline import OfflineFMCTrainer\n",
    "from fractal_zero.search.fmc import FMC\n",
    "from fractal_zero.vectorized_environment import SerialVectorizedEnvironment"
   ]
  },
  {
   "cell_type": "code",
   "execution_count": 7,
   "metadata": {},
   "outputs": [
    {
     "name": "stderr",
     "output_type": "stream",
     "text": [
      "/Users/dyllanquilter/miniconda3/envs/quilt/lib/python3.8/site-packages/gym/envs/registration.py:593: UserWarning: \u001b[33mWARN: The environment CartPole-v0 is out of date. You should consider upgrading to version `v1`.\u001b[0m\n",
      "  logger.warn(\n",
      "/Users/dyllanquilter/miniconda3/envs/quilt/lib/python3.8/site-packages/gym/core.py:317: DeprecationWarning: \u001b[33mWARN: Initializing wrapper in old step API which returns one bool instead of two. It is recommended to set `new_step_api=True` to use new step API. This will be the default behaviour in future.\u001b[0m\n",
      "  deprecation(\n",
      "/Users/dyllanquilter/miniconda3/envs/quilt/lib/python3.8/site-packages/gym/wrappers/step_api_compatibility.py:39: DeprecationWarning: \u001b[33mWARN: Initializing environment in old step API which returns one bool instead of two. It is recommended to set `new_step_api=True` to use new step API. This will be the default behaviour in future.\u001b[0m\n",
      "  deprecation(\n"
     ]
    }
   ],
   "source": [
    "env_id = \"CartPole-v0\"\n",
    "num_walkers = 4\n",
    "\n",
    "vec_env = SerialVectorizedEnvironment(env_id, num_walkers)\n",
    "fmc = FMC(vec_env)"
   ]
  },
  {
   "cell_type": "code",
   "execution_count": 8,
   "metadata": {},
   "outputs": [],
   "source": [
    "policy = torch.nn.Sequential(\n",
    "    torch.nn.Linear(4, 8),\n",
    "    torch.nn.ReLU(),\n",
    "    torch.nn.Linear(8, 1),\n",
    "    torch.nn.Sigmoid(),\n",
    ")\n",
    "\n",
    "optimizer = torch.optim.SGD(policy.parameters(), lr=0.01)"
   ]
  },
  {
   "cell_type": "code",
   "execution_count": 9,
   "metadata": {},
   "outputs": [],
   "source": [
    "trainer = OfflineFMCTrainer(fmc, policy, optimizer)"
   ]
  },
  {
   "cell_type": "code",
   "execution_count": 10,
   "metadata": {},
   "outputs": [
    {
     "name": "stdout",
     "output_type": "stream",
     "text": [
      "35 35 35\n"
     ]
    },
    {
     "name": "stderr",
     "output_type": "stream",
     "text": [
      "/Users/dyllanquilter/Documents/Code/fractal-zero/fractal_zero/vectorized_environment.py:230: UserWarning: Creating a tensor from a list of numpy.ndarrays is extremely slow. Please consider converting the list to a single numpy.ndarray with numpy.array() before converting to a tensor. (Triggered internally at  /Users/runner/work/pytorch/pytorch/pytorch/torch/csrc/utils/tensor_new.cpp:204.)\n",
      "  states = self.observation_encoder(observations)\n"
     ]
    }
   ],
   "source": [
    "max_steps = 16\n",
    "num_simulations = 1\n",
    "num_train_steps_per_simulation = 1\n",
    "\n",
    "for _ in range(num_simulations):\n",
    "    trainer.simulate_episodes(max_steps=max_steps)\n",
    "\n",
    "    for _ in range(num_train_steps_per_simulation):\n",
    "        trainer.train_step()"
   ]
  }
 ],
 "metadata": {
  "kernelspec": {
   "display_name": "Python 3.8.12 ('quilt')",
   "language": "python",
   "name": "python3"
  },
  "language_info": {
   "codemirror_mode": {
    "name": "ipython",
    "version": 3
   },
   "file_extension": ".py",
   "mimetype": "text/x-python",
   "name": "python",
   "nbconvert_exporter": "python",
   "pygments_lexer": "ipython3",
   "version": "3.8.12"
  },
  "orig_nbformat": 4,
  "vscode": {
   "interpreter": {
    "hash": "3b3ec59b09a508469c24b35bb532943e26de85d709dcd330c430cd6fc4acf7c3"
   }
  }
 },
 "nbformat": 4,
 "nbformat_minor": 2
}
